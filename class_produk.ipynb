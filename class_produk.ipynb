{
  "nbformat": 4,
  "nbformat_minor": 0,
  "metadata": {
    "colab": {
      "provenance": [],
      "authorship_tag": "ABX9TyNXugHXzvg7ThsBeJaBeZof",
      "include_colab_link": true
    },
    "kernelspec": {
      "name": "python3",
      "display_name": "Python 3"
    },
    "language_info": {
      "name": "python"
    }
  },
  "cells": [
    {
      "cell_type": "markdown",
      "metadata": {
        "id": "view-in-github",
        "colab_type": "text"
      },
      "source": [
        "<a href=\"https://colab.research.google.com/github/abiyyithufail/PBO2/blob/main/class_produk.ipynb\" target=\"_parent\"><img src=\"https://colab.research.google.com/assets/colab-badge.svg\" alt=\"Open In Colab\"/></a>"
      ]
    },
    {
      "cell_type": "code",
      "execution_count": 1,
      "metadata": {
        "colab": {
          "base_uri": "https://localhost:8080/"
        },
        "id": "uvahBlebngIY",
        "outputId": "b6fe4a80-d091-408d-b15b-83839715368a"
      },
      "outputs": [
        {
          "output_type": "stream",
          "name": "stdout",
          "text": [
            "Nama Produk: Laptop Asus ROG\n",
            "Harga: Rp 20000000\n",
            "Stok Tersedia: 10\n"
          ]
        }
      ],
      "source": [
        "class Produk:\n",
        "    def __init__(self):\n",
        "        self.nama = \"\"\n",
        "        self.harga = 0\n",
        "        self.stok = 0\n",
        "\n",
        "def main():\n",
        "    produk = Produk()\n",
        "    produk.nama = \"Laptop Asus ROG\"\n",
        "    produk.harga = 20000000\n",
        "    produk.stok = 10\n",
        "\n",
        "    print(\"Nama Produk:\", produk.nama)\n",
        "    print(\"Harga: Rp\", produk.harga)\n",
        "    print(\"Stok Tersedia:\", produk.stok)\n",
        "\n",
        "if __name__ == \"__main__\":\n",
        "    main()\n"
      ]
    }
  ]
}