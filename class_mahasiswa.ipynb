{
  "nbformat": 4,
  "nbformat_minor": 0,
  "metadata": {
    "colab": {
      "provenance": [],
      "authorship_tag": "ABX9TyO9s1rLy7DNR0i21lB+TKWG",
      "include_colab_link": true
    },
    "kernelspec": {
      "name": "python3",
      "display_name": "Python 3"
    },
    "language_info": {
      "name": "python"
    }
  },
  "cells": [
    {
      "cell_type": "markdown",
      "metadata": {
        "id": "view-in-github",
        "colab_type": "text"
      },
      "source": [
        "<a href=\"https://colab.research.google.com/github/abiyyithufail/PBO2/blob/main/class_mahasiswa.ipynb\" target=\"_parent\"><img src=\"https://colab.research.google.com/assets/colab-badge.svg\" alt=\"Open In Colab\"/></a>"
      ]
    },
    {
      "cell_type": "code",
      "execution_count": 1,
      "metadata": {
        "colab": {
          "base_uri": "https://localhost:8080/"
        },
        "id": "qEXg_sdCj75b",
        "outputId": "2611aa37-5810-4a4d-85ba-1f6214e56716"
      },
      "outputs": [
        {
          "output_type": "stream",
          "name": "stdout",
          "text": [
            "Nama Mahasiswa: Muhammad Abiyyi Thufail\n",
            "NIM: 2205010101\n",
            "Program Studi: Teknik Informatika\n"
          ]
        }
      ],
      "source": [
        "class Mahasiswa:\n",
        "    def __init__(self):\n",
        "        self.nama = \"\"\n",
        "        self.nim = \"\"\n",
        "        self.prodi = \"\"\n",
        "\n",
        "def main():\n",
        "    mahasiswa = Mahasiswa()\n",
        "    mahasiswa.nama = \"Muhammad Abiyyi Thufail\"\n",
        "    mahasiswa.nim = \"2205010101\"\n",
        "    mahasiswa.prodi = \"Teknik Informatika\"\n",
        "\n",
        "    print(\"Nama Mahasiswa:\", mahasiswa.nama)\n",
        "    print(\"NIM:\", mahasiswa.nim)\n",
        "    print(\"Program Studi:\", mahasiswa.prodi)\n",
        "\n",
        "if __name__ == \"__main__\":\n",
        "    main()\n"
      ]
    }
  ]
}