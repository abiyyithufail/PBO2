{
  "nbformat": 4,
  "nbformat_minor": 0,
  "metadata": {
    "colab": {
      "provenance": [],
      "authorship_tag": "ABX9TyONfEmdtd3DG5OBIA3nRthF",
      "include_colab_link": true
    },
    "kernelspec": {
      "name": "python3",
      "display_name": "Python 3"
    },
    "language_info": {
      "name": "python"
    }
  },
  "cells": [
    {
      "cell_type": "markdown",
      "metadata": {
        "id": "view-in-github",
        "colab_type": "text"
      },
      "source": [
        "<a href=\"https://colab.research.google.com/github/abiyyithufail/PBO2/blob/main/class_mobil.ipynb\" target=\"_parent\"><img src=\"https://colab.research.google.com/assets/colab-badge.svg\" alt=\"Open In Colab\"/></a>"
      ]
    },
    {
      "cell_type": "code",
      "execution_count": 1,
      "metadata": {
        "colab": {
          "base_uri": "https://localhost:8080/"
        },
        "id": "Quy37Wk8l80j",
        "outputId": "46b3a450-a7eb-474c-8f22-058d0b72fabb"
      },
      "outputs": [
        {
          "output_type": "stream",
          "name": "stdout",
          "text": [
            "Merek Mobil: Mitshubishi\n",
            "Model: pajero\n",
            "Tahun Produksi: 2022\n"
          ]
        }
      ],
      "source": [
        "class Mobil:\n",
        "    def __init__(self):\n",
        "        self.merek = \"\"\n",
        "        self.model = \"\"\n",
        "        self.tahun = 0\n",
        "\n",
        "def main():\n",
        "    mobil = Mobil()\n",
        "    mobil.merek = \"Mitshubishi\"\n",
        "    mobil.model = \"pajero\"\n",
        "    mobil.tahun = 2022\n",
        "\n",
        "    print(\"Merek Mobil:\", mobil.merek)\n",
        "    print(\"Model:\", mobil.model)\n",
        "    print(\"Tahun Produksi:\", mobil.tahun)\n",
        "\n",
        "if __name__ == \"__main__\":\n",
        "    main()\n"
      ]
    }
  ]
}