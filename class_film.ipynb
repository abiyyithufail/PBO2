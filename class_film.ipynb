{
  "nbformat": 4,
  "nbformat_minor": 0,
  "metadata": {
    "colab": {
      "provenance": [],
      "authorship_tag": "ABX9TyOK2SlZyOL+7p9tACPciz/3",
      "include_colab_link": true
    },
    "kernelspec": {
      "name": "python3",
      "display_name": "Python 3"
    },
    "language_info": {
      "name": "python"
    }
  },
  "cells": [
    {
      "cell_type": "markdown",
      "metadata": {
        "id": "view-in-github",
        "colab_type": "text"
      },
      "source": [
        "<a href=\"https://colab.research.google.com/github/abiyyithufail/PBO2/blob/main/class_film.ipynb\" target=\"_parent\"><img src=\"https://colab.research.google.com/assets/colab-badge.svg\" alt=\"Open In Colab\"/></a>"
      ]
    },
    {
      "cell_type": "code",
      "execution_count": null,
      "metadata": {
        "id": "_2fW31vSms57"
      },
      "outputs": [],
      "source": [
        "class Film:\n",
        "    def __init__(self):\n",
        "        self.judul = \"\"\n",
        "        self.sutradara = \"\"\n",
        "        self.tahun_rilis = 0\n",
        "\n",
        "def main():\n",
        "    film = Film()\n",
        "    film.judul = \"Interstellar\"\n",
        "    film.sutradara = \"Christopher Nolan\"\n",
        "    film.tahun_rilis = 2014\n",
        "\n",
        "    print(\"Judul Film:\", film.judul)\n",
        "    print(\"Sutradara:\", film.sutradara)\n",
        "    print(\"Tahun Rilis:\", film.tahun_rilis)\n",
        "\n",
        "if __name__ == \"__main__\":\n",
        "    main()\n"
      ]
    }
  ]
}