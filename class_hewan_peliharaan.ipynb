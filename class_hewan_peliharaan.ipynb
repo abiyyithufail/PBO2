{
  "nbformat": 4,
  "nbformat_minor": 0,
  "metadata": {
    "colab": {
      "provenance": [],
      "authorship_tag": "ABX9TyMhZPwMNSNhFXCdoRostzPz",
      "include_colab_link": true
    },
    "kernelspec": {
      "name": "python3",
      "display_name": "Python 3"
    },
    "language_info": {
      "name": "python"
    }
  },
  "cells": [
    {
      "cell_type": "markdown",
      "metadata": {
        "id": "view-in-github",
        "colab_type": "text"
      },
      "source": [
        "<a href=\"https://colab.research.google.com/github/abiyyithufail/PBO2/blob/main/class_hewan_peliharaan.ipynb\" target=\"_parent\"><img src=\"https://colab.research.google.com/assets/colab-badge.svg\" alt=\"Open In Colab\"/></a>"
      ]
    },
    {
      "cell_type": "code",
      "execution_count": 1,
      "metadata": {
        "colab": {
          "base_uri": "https://localhost:8080/"
        },
        "id": "t77GrnfpnHIu",
        "outputId": "515c31bf-e896-42ad-c1ea-880ac64b4532"
      },
      "outputs": [
        {
          "output_type": "stream",
          "name": "stdout",
          "text": [
            "Nama Hewan: Kiwir\n",
            "Jenis Hewan: Kucing\n",
            "Umur: 2 tahun\n"
          ]
        }
      ],
      "source": [
        "class HewanPeliharaan:\n",
        "    def __init__(self):\n",
        "        self.nama = \"\"\n",
        "        self.jenis = \"\"\n",
        "        self.umur = 0\n",
        "\n",
        "def main():\n",
        "    hewan = HewanPeliharaan()\n",
        "    hewan.nama = \"Kiwir\"\n",
        "    hewan.jenis = \"Kucing\"\n",
        "    hewan.umur = 2\n",
        "\n",
        "    print(\"Nama Hewan:\", hewan.nama)\n",
        "    print(\"Jenis Hewan:\", hewan.jenis)\n",
        "    print(\"Umur:\", hewan.umur, \"tahun\")\n",
        "\n",
        "if __name__ == \"__main__\":\n",
        "    main()\n",
        "\n"
      ]
    }
  ]
}